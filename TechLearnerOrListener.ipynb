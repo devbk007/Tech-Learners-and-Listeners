{
  "nbformat": 4,
  "nbformat_minor": 0,
  "metadata": {
    "colab": {
      "name": "TechLearnerOrListener.ipynb",
      "provenance": []
    },
    "kernelspec": {
      "name": "python3",
      "display_name": "Python 3"
    },
    "accelerator": "TPU"
  },
  "cells": [
    {
      "cell_type": "code",
      "metadata": {
        "id": "AlBQaPvv9c2E",
        "colab_type": "code",
        "colab": {
          "base_uri": "https://localhost:8080/",
          "height": 153
        },
        "outputId": "db504e7b-d5dd-4622-f79b-f8813e00d6f2"
      },
      "source": [
        "class Tutoring1:\n",
        "  expertise = {} # Created expertise as a dictionary\n",
        "  role = {} # Created tole as a dictionary\n",
        "  time = {} # Created time as a dictionary\n",
        "  needed_role = \"mentor\"\n",
        "  dom = None # Domain of expertise\n",
        "  demand_stack = None\n",
        "\n",
        "  def __init__ (self,no): #no is the parameter which tells the current number of entry. Used as key for dictionary\n",
        "    print(\"Welcome\")\n",
        "    self.key = no\n",
        "    self.expertise[self.key] = []\n",
        "    self.role[self.key] = []\n",
        "    self.time[self.key] = []\n",
        "  \n",
        "  def addStacks(self,dom):\n",
        "    self.expertise[self.key].append(dom)\n",
        "\n",
        "  def setMentorOrLearner(self,role): # Enter mentor for 'mentor' and 'learner' for learner\n",
        "    self.role[self.key].append(role)\n",
        "\n",
        "  def setAvailableTime(self,time): # Assuming time is given as an integer value\n",
        "    if self.role[self.key] ==['mentor']:\n",
        "      self.time[self.key].append(time)\n",
        "    else:\n",
        "      self.time[self.key].append(None)\n",
        "\n",
        "  def getMentor(self,demand_stack,req_time): # demand_stack is the demanded expertise\n",
        "    f=0\n",
        "    needed = demand_stack\n",
        "    req_role = ['mentor']\n",
        "    for j in self.role:\n",
        "      if self.role[j]==['mentor']:\n",
        "        if demand_stack in self.expertise[j]:\n",
        "          if req_time in self.time[j]:\n",
        "            print(\"Mentor \" + j + \" is available\")\n",
        "            f=1\n",
        "    if f==0:\n",
        "      print(\"No mentor is available\")\n",
        "\n",
        "\n",
        "# Now will show output\n",
        "\n",
        "t1 = Tutoring1(\"alan\")\n",
        "# Welcome\n",
        "\n",
        "t1.addStacks(\"Python\")\n",
        "t1.addStacks(\"C\")\n",
        "t1.setMentorOrLearner(\"mentor\")\n",
        "t1.setAvailableTime(2)\n",
        "t1.getMentor(\"Python\",2)\n",
        "# Mentor alan is available\n",
        "t2 = Tutoring1(\"bk\")\n",
        "# Welcome\n",
        "t2.addStacks(\"C\")\n",
        "t2.setMentorOrLearner(\"mentor\")\n",
        "t2.setAvailableTime(1)\n",
        "t2.getMentor(\"C\",1)\n",
        "# Mentor bk is available\n",
        "\n",
        "t2.getMentor(\"C\",2)\n",
        "# Mentor alan is available\n",
        "\n",
        "t2.getMentor(\"Java\",3)\n",
        " #No mentor is available\n",
        "\n",
        "t3 = Tutoring1(\"abrew\")\n",
        "# Welcome\n",
        "t3.addStacks(\"Go\")\n",
        "t3.setMentorOrLearner(\"learner\")\n",
        "t3.setAvailableTime(2)\n",
        "t3.getMentor(\"Python\",2) # Here, i gave different area of demand, beacuse of the assumptiion that learner can select different domain other than his area of expertise\n",
        "# Mentor alan is available"
      ],
      "execution_count": 1,
      "outputs": [
        {
          "output_type": "stream",
          "text": [
            "Welcome\n",
            "Mentor alan is available\n",
            "Welcome\n",
            "Mentor bk is available\n",
            "Mentor alan is available\n",
            "No mentor is available\n",
            "Welcome\n",
            "Mentor alan is available\n"
          ],
          "name": "stdout"
        }
      ]
    }
  ]
}